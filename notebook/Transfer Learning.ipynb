{
 "cells": [
  {
   "cell_type": "markdown",
   "metadata": {},
   "source": [
    "TODO\n",
    "\n",
    "- Try training with small dataset on laptop.  How long does it take? (100 images per category)\n",
    "- Get desktop setup for training with GPU\n",
    "- Crop out borders.  If they are different brands between test cases this will be a problem"
   ]
  },
  {
   "cell_type": "markdown",
   "metadata": {},
   "source": [
    "# Data Prep\n",
    "\n",
    "### Random Sampling\n",
    "\n",
    "`ls ../snapshot/Elephant | sort -R  > random_elephant`\n",
    "\n",
    "`head -n 100 random_elephant | xargs -I{} cp ../snapshot/Elephant/{} elephant`\n",
    "\n",
    "`tail -n 100 random_elephant | xargs -I{} ../snapshot/Elephant/{} test/elephant`\n",
    "\n",
    "### Flatten Tapir Directory\n",
    "Find every file recursively that ends in .txt, execute the copy command.\n",
    "\n",
    "`find . -iname '*.JPG' -exec mv \\{\\} ../tapir_flat/ \\;`"
   ]
  },
  {
   "cell_type": "markdown",
   "metadata": {
    "collapsed": true
   },
   "source": [
    "### Cleanup images"
   ]
  },
  {
   "cell_type": "markdown",
   "metadata": {},
   "source": [
    "# Transfer Learning Results\n",
    "## Simple 100 image retrain\n",
    "Final test accuracy = 79.5% (N=44) when doing top prediction\n",
    "\n"
   ]
  },
  {
   "cell_type": "code",
   "execution_count": null,
   "metadata": {
    "collapsed": true
   },
   "outputs": [],
   "source": [
    "# Default codebase is vagrant\n",
    "# If you aren't using vagrant replace codebase with your personal\n",
    "# root.  For example, ~/home/projects/code-base\n",
    "CODEBASE_DIR = '/vagrant'\n",
    "\n",
    "# Model Constants\n",
    "DATA_DIR = CODEBASE_DIR + '/data'\n",
    "MODELS_DIR = CODEBASE_DIR + '/models'\n",
    "MODEL_FILE = MODELS_DIR + '/inception-retrained-100imgs/output_graph.pb'\n",
    "LABELS_FILE = MODELS_DIR + '/inception-retrained-100imgs/output_labels.txt'\n",
    "\n",
    "# Data Constants\n",
    "ELEPHANT_DIR = DATA_DIR + '/small-testing/elephant'\n",
    "RHINO_DIR = DATA_DIR + '/small-testing/rhino'\n",
    "TAPIR_DIR = DATA_DIR + '/small-testing/tapir'\n",
    "ANY_DIR = DATA_DIR + '/small-testing/none'\n",
    "\n",
    "GRAPH_CREATED = False"
   ]
  },
  {
   "cell_type": "code",
   "execution_count": 1,
   "metadata": {
    "collapsed": true
   },
   "outputs": [],
   "source": [
    "from IPython.display import Image\n",
    "\n",
    "from PIL import Image as Img\n",
    "\n",
    "import numpy as np\n",
    "import tensorflow as tf\n",
    "import os\n",
    "import sys\n",
    "import matplotlib.pyplot as plt\n",
    "from sklearn.metrics import precision_recall_curve\n",
    "from sklearn.metrics import roc_curve\n",
    "from sklearn.metrics import roc_auc_score\n",
    "\n",
    "np.random.seed(1)"
   ]
  },
  {
   "cell_type": "code",
   "execution_count": 2,
   "metadata": {
    "collapsed": true
   },
   "outputs": [],
   "source": [
    "def create_graph(file):\n",
    "    global GRAPH_CREATED\n",
    "    if GRAPH_CREATED:\n",
    "        return\n",
    "    \n",
    "    GRAPH_CREATED = True\n",
    "    \n",
    "    \"\"\"Creates a graph from saved GraphDef file and returns a saver.\"\"\"\n",
    "    # Creates graph from saved graph_def.pb.\n",
    "    with tf.gfile.FastGFile(file, 'rb') as f:\n",
    "        graph_def = tf.GraphDef()\n",
    "        graph_def.ParseFromString(f.read())\n",
    "        _ = tf.import_graph_def(graph_def, name='')"
   ]
  },
  {
   "cell_type": "code",
   "execution_count": 3,
   "metadata": {
    "collapsed": true
   },
   "outputs": [],
   "source": [
    "def run_inference_on_image(img):\n",
    "    answer = None\n",
    "\n",
    "    if not tf.gfile.Exists(img):\n",
    "        tf.logging.fatal('File does not exist %s', img)\n",
    "        return answer\n",
    "\n",
    "    image_data = tf.gfile.FastGFile(img, 'rb').read()\n",
    "\n",
    "    # Creates graph from saved GraphDef.\n",
    "    create_graph(MODEL_FILE)\n",
    "    \n",
    "    with tf.Session() as sess:\n",
    "        softmax_tensor = sess.graph.get_tensor_by_name('final_result:0')\n",
    "        predictions = sess.run(softmax_tensor,\n",
    "                               {'DecodeJpeg/contents:0': image_data})\n",
    "        predictions = np.squeeze(predictions)\n",
    "                \n",
    "        with open(LABELS_FILE) as f:\n",
    "            labels = f.read().splitlines()\n",
    "            \n",
    "        return (predictions, labels)"
   ]
  },
  {
   "cell_type": "code",
   "execution_count": null,
   "metadata": {
    "collapsed": true
   },
   "outputs": [],
   "source": [
    "img_elephant = [os.path.join(ELEPHANT_DIR, img) for img in os.listdir(ELEPHANT_DIR)]\n",
    "\n",
    "img_idx = np.random.randint(0, len(img_elephant), 5)"
   ]
  },
  {
   "cell_type": "code",
   "execution_count": null,
   "metadata": {
    "collapsed": true
   },
   "outputs": [],
   "source": [
    "Image(img_elephant[img_idx[0]])"
   ]
  },
  {
   "cell_type": "code",
   "execution_count": null,
   "metadata": {
    "collapsed": true
   },
   "outputs": [],
   "source": [
    "run_inference_on_image(img_elephant[img_idx[0]])"
   ]
  },
  {
   "cell_type": "code",
   "execution_count": 4,
   "metadata": {
    "collapsed": true
   },
   "outputs": [],
   "source": [
    "def sample_and_label(img_list, prob, label):\n",
    "    imgs = np.array(img_list)\n",
    "    keep = np.random.choice((True,False), size=len(img_list), replace=True, p=prob)\n",
    "    return label_data(imgs[keep], label)\n",
    "\n",
    "def label_data(source_data, label):\n",
    "    sample_size = len(source_data)\n",
    "    known_labels = np.array([label] * sample_size).reshape(sample_size, 1)\n",
    "    known_images = source_data.reshape(sample_size,1)\n",
    "    labeled_data = np.hstack((known_images, known_labels))\n",
    "    return labeled_data"
   ]
  },
  {
   "cell_type": "code",
   "execution_count": 5,
   "metadata": {
    "collapsed": true
   },
   "outputs": [],
   "source": [
    "def stream_classify(pos_dir, pos_sample=(0.01, 0.99)):\n",
    "    img_pos = [os.path.join(pos_dir, img) for img in os.listdir(pos_dir)]\n",
    "\n",
    "    # Create a stream of labeled data for rhinos\n",
    "    labeled_data = sample_and_label(img_pos, prob=pos_sample, label=True)\n",
    "\n",
    "    i = 0\n",
    "    rows, col = labeled_data.shape\n",
    "    score = []\n",
    "    for labeled in labeled_data:\n",
    "        i += 1\n",
    "        img, label = labeled\n",
    "        sys.stdout.write(\"\\rClassifying %i of %i, img %s                                                         \" % (i, rows, img))\n",
    "        score.append(run_inference_on_image(img))\n",
    "\n",
    "    sys.stdout.write(\"\\rDONE classifying images                                                                  \")\n",
    "    return score"
   ]
  },
  {
   "cell_type": "code",
   "execution_count": null,
   "metadata": {
    "collapsed": true
   },
   "outputs": [],
   "source": [
    "classifications = {}\n",
    "\n",
    "for pos_dir, label, pos_sample_size in [(TAPIR_DIR, 'tapir', (1.0, 0.0)),\n",
    "                                        (ANY_DIR, 'none', (1.0, 0.0)),\n",
    "                                        (RHINO_DIR, 'rhino', (1.0, 0.0)),\n",
    "                                        (ELEPHANT_DIR, 'elephant', (1.0, 0.0))]:\n",
    "    classifications[label] = stream_classify(pos_dir=pos_dir, pos_sample=pos_sample_size)"
   ]
  },
  {
   "cell_type": "code",
   "execution_count": 6,
   "metadata": {
    "collapsed": true
   },
   "outputs": [],
   "source": [
    "## Binary Data for Elephant\n",
    "def get_score(label, tup):\n",
    "    scores, labels = tup\n",
    "    return scores[labels.index(label)]\n",
    "\n",
    "def get_label_scores(classif, label):\n",
    "    label_scores = []\n",
    "\n",
    "    for item in classif:\n",
    "        scores, labels = item\n",
    "        label_scores.append(scores[labels.index(label)])\n",
    "    \n",
    "    return label_scores"
   ]
  },
  {
   "cell_type": "code",
   "execution_count": null,
   "metadata": {
    "collapsed": true
   },
   "outputs": [],
   "source": [
    "elephant_dataset = classifications['elephant']\n",
    "none_dataset = classifications['none']\n",
    "rhino_dataset = classifications['rhino']\n",
    "tapir_dataset = classifications['tapir']\n",
    "\n",
    "\n",
    "elephant_scores = np.array(get_label_scores(elephant_dataset, 'elephant'))\n",
    "rhino_scores = np.array(get_label_scores(rhino_dataset, 'rhino'))\n",
    "tapir_scores = np.array(get_label_scores(tapir_dataset, 'tapir'))\n",
    "\n",
    "# For our negative examples, we want to compare the probability of NOT label, in the none dataset\n",
    "none_elephant_scores = np.array(get_label_scores(none_dataset, 'elephant'))\n",
    "none_rhino_scores = np.array(get_label_scores(none_dataset, 'rhino'))\n",
    "none_tapir_scores = np.array(get_label_scores(none_dataset, 'tapir'))"
   ]
  },
  {
   "cell_type": "code",
   "execution_count": null,
   "metadata": {
    "collapsed": true
   },
   "outputs": [],
   "source": [
    "# PR Curve\n",
    "\n",
    "elephant_truth = np.hstack(([True] * len(elephant_scores), [False] * len(none_elephant_scores)))\n",
    "elephant_full_scores = np.hstack((elephant_scores, none_elephant_scores))\n",
    "elephant_precision, elephant_recall, elephant_thresholds = precision_recall_curve(elephant_truth, elephant_full_scores)\n",
    "\n",
    "rhino_truth = np.hstack(([True] * len(rhino_scores), [False] * len(none_rhino_scores)))\n",
    "rhino_full_scores = np.hstack((rhino_scores, none_rhino_scores))\n",
    "rhino_precision, rhino_recall, rhino_thresholds = precision_recall_curve(rhino_truth, rhino_full_scores)\n",
    "\n",
    "tapir_truth = np.hstack(([True] * len(tapir_scores), [False] * len(none_tapir_scores)))\n",
    "tapir_full_scores = np.hstack((tapir_scores, none_tapir_scores))\n",
    "tapir_precision, tapir_recall, tapir_thresholds = precision_recall_curve(tapir_truth, tapir_full_scores)\n",
    "\n",
    "\n",
    "plt.plot(elephant_precision, elephant_recall, 'b-')\n",
    "plt.plot(rhino_precision, rhino_recall, 'r-')\n",
    "plt.plot(tapir_precision, tapir_recall, 'g-')\n",
    "plt.legend(['elephant', 'rhino', 'tapir'])\n",
    "plt.xlabel(\"precision\")\n",
    "plt.ylabel(\"recall\")\n",
    "plt.title(\"PR Curve\")\n",
    "plt.show()"
   ]
  },
  {
   "cell_type": "code",
   "execution_count": null,
   "metadata": {
    "collapsed": true
   },
   "outputs": [],
   "source": [
    "elephant_fpr, elephant_tpr, elephant_thresholds = roc_curve(elephant_truth, elephant_full_scores, pos_label=True)\n",
    "rhino_fpr, rhino_tpr, rhino_thresholds = roc_curve(rhino_truth, rhino_full_scores, pos_label=True)\n",
    "tapir_fpr, tapir_tpr, tapir_thresholds = roc_curve(tapir_truth, tapir_full_scores, pos_label=True)\n",
    "\n",
    "plt.plot(elephant_thresholds, elephant_thresholds, 'k--')\n",
    "plt.plot(elephant_fpr, elephant_tpr)\n",
    "plt.plot(rhino_fpr, rhino_tpr)\n",
    "plt.plot(tapir_fpr, tapir_tpr)\n",
    "plt.legend(['random', 'elephant', 'rhino', 'tapir'])\n",
    "plt.xlabel(\"false positive rate\")\n",
    "plt.ylabel(\"true positive rate\")\n",
    "plt.title(\"ROC Curve\")\n",
    "plt.show()"
   ]
  },
  {
   "cell_type": "code",
   "execution_count": null,
   "metadata": {
    "collapsed": true
   },
   "outputs": [],
   "source": [
    "elephant_auc = roc_auc_score(elephant_truth, elephant_full_scores)\n",
    "print(\"Elephant inception based model AUC: %f\" % (elephant_auc))\n",
    "\n",
    "rhino_auc = roc_auc_score(rhino_truth, rhino_full_scores)\n",
    "print(\"Rhino inception based model AUC: %f\" % (rhino_auc))\n",
    "\n",
    "tapir_auc = roc_auc_score(tapir_truth, tapir_full_scores)\n",
    "print(\"Tapir inception based model AUC: %f\" % (tapir_auc))"
   ]
  },
  {
   "cell_type": "markdown",
   "metadata": {},
   "source": [
    "# Results\n",
    "For small training dataset:\n",
    "\n",
    "Elephant inception based model AUC: 0.935500\n",
    "\n",
    "Rhino inception based model AUC: 0.888462\n",
    "\n",
    "Tapir inception based model AUC: 1.000000\n",
    "\n",
    "The above implies a couple of things.  We can get a decent classifier with very few images of Rhinos.  It also implies that Tapir model is \"perfect\" which is highly suspect.  My guess is that it's learning the difference in branding that is printed on the borders of the images.  Will need to rerun with trimming those logos out.\n",
    "\n",
    "Next Steps:\n",
    "- Trim logos, re-run\n",
    "- Increase training set sizes\n",
    "- Experiment with deforming images"
   ]
  },
  {
   "cell_type": "markdown",
   "metadata": {},
   "source": [
    "# Trimming Notes\n",
    "\n",
    "Snapshot\n",
    "108 off the bottom\n",
    "\n",
    "Tapirs\n",
    "37 pixels off the top\n",
    "74 pixels off the bottom\n",
    "\n",
    "Example usage:\n",
    "`ls | xargs -I{} python3 ../../../bin/trim-image.py {} --header-trim 37 --footer-trim 74`\n"
   ]
  },
  {
   "cell_type": "markdown",
   "metadata": {},
   "source": [
    "# Retrained with Trimmed Images\n",
    "Final test accuracy = 81.0% (N=42)\n",
    "Converted 2 variables to const ops."
   ]
  },
  {
   "cell_type": "code",
   "execution_count": null,
   "metadata": {
    "collapsed": true
   },
   "outputs": [],
   "source": [
    "CODEBASE_DIR = '/vagrant'\n",
    "\n",
    "\n",
    "DATA_DIR = CODEBASE_DIR + '/data'\n",
    "MODELS_DIR = CODEBASE_DIR + '/models'\n",
    "MODEL_FILE = MODELS_DIR + '/inception-retrained-trimmed-100imgs/output_graph.pb'\n",
    "LABELS_FILE = MODELS_DIR + '/inception-retrained-trimmed-100imgs/output_labels.txt'\n",
    "\n",
    "# Data Constants\n",
    "ELEPHANT_DIR = DATA_DIR + '/small-testing/elephant'\n",
    "RHINO_DIR = DATA_DIR + '/small-testing/rhino'\n",
    "TAPIR_DIR = DATA_DIR + '/small-testing/tapir'\n",
    "ANY_DIR = DATA_DIR + '/small-testing/none'\n",
    "\n",
    "GRAPH_CREATED = False"
   ]
  },
  {
   "cell_type": "code",
   "execution_count": null,
   "metadata": {},
   "outputs": [],
   "source": [
    "classifications = {}\n",
    "\n",
    "for pos_dir, label, pos_sample_size in [(ANY_DIR, 'none', (1.0, 0.0)),\n",
    "                                        (TAPIR_DIR, 'tapir', (1.0, 0.0)),\n",
    "                                        (RHINO_DIR, 'rhino', (1.0, 0.0)),\n",
    "                                        (ELEPHANT_DIR, 'elephant', (1.0, 0.0))]:\n",
    "    classifications[label] = stream_classify(pos_dir=pos_dir, pos_sample=pos_sample_size)"
   ]
  },
  {
   "cell_type": "code",
   "execution_count": null,
   "metadata": {
    "collapsed": true
   },
   "outputs": [],
   "source": [
    "def plot(classifications, labels):\n",
    "    plt.figure(1)\n",
    "    plt.figure(figsize=(18, 16), dpi= 80, facecolor='w', edgecolor='k')\n",
    "    plt.subplot(2,1,1)\n",
    "    \n",
    "    for label in labels:\n",
    "        dataset = classifications[label]\n",
    "        none_dataset = classifications['none']\n",
    "        scores = np.array(get_label_scores(dataset, label))\n",
    "        none_animal_scores = np.array(get_label_scores(none_dataset, label))\n",
    "\n",
    "        truth = np.hstack(([True] * len(scores), [False] * len(none_animal_scores)))\n",
    "        full_scores = np.hstack((scores, none_animal_scores))\n",
    "\n",
    "        precision, recall, thresholds = precision_recall_curve(truth, full_scores)\n",
    "        plt.plot(precision, recall)\n",
    "        \n",
    "\n",
    "    plt.legend(labels)\n",
    "    plt.xlabel(\"precision\")\n",
    "    plt.ylabel(\"recall\")\n",
    "    plt.title(\"PR Curve\")\n",
    "\n",
    "    # ROC curve\n",
    "    plt.subplot(2,1,2)\n",
    "    baseline = False\n",
    "    \n",
    "    for label in labels:\n",
    "        dataset = classifications[label]\n",
    "        none_dataset = classifications['none']\n",
    "        scores = np.array(get_label_scores(dataset, label))\n",
    "        none_animal_scores = np.array(get_label_scores(none_dataset, label))\n",
    "\n",
    "        truth = np.hstack(([True] * len(scores), [False] * len(none_animal_scores)))\n",
    "        full_scores = np.hstack((scores, none_animal_scores))\n",
    "        \n",
    "        fpr, tpr, thresholds = roc_curve(truth, full_scores, pos_label=True)\n",
    "        plt.plot(fpr, tpr)\n",
    "        \n",
    "        if not baseline:\n",
    "            plt.plot(thresholds, thresholds, 'k--')\n",
    "            baseline = True\n",
    "        \n",
    "    plt.legend(['random'] + labels)\n",
    "    plt.xlabel(\"false positive rate\")\n",
    "    plt.ylabel(\"true positive rate\")\n",
    "    plt.title(\"ROC Curve\")\n",
    "\n",
    "    plt.show()\n",
    "    \n",
    "    for label in labels:\n",
    "        dataset = classifications[label]\n",
    "        none_dataset = classifications['none']\n",
    "        scores = np.array(get_label_scores(dataset, label))\n",
    "        none_animal_scores = np.array(get_label_scores(none_dataset, label))\n",
    "\n",
    "        truth = np.hstack(([True] * len(scores), [False] * len(none_animal_scores)))\n",
    "        full_scores = np.hstack((scores, none_animal_scores))\n",
    "        \n",
    "        auc = roc_auc_score(truth, full_scores)\n",
    "        print(\"%s inception based model AUC: %f\" % (label, auc))"
   ]
  },
  {
   "cell_type": "code",
   "execution_count": null,
   "metadata": {
    "collapsed": true
   },
   "outputs": [],
   "source": [
    "plot(classifications, ['tapir', 'elephant', 'rhino'])"
   ]
  },
  {
   "cell_type": "markdown",
   "metadata": {},
   "source": [
    "# Results\n",
    "\n",
    "Elephant inception based model AUC: 0.919700\n",
    "\n",
    "Rhino inception based model AUC: 0.883462\n",
    "\n",
    "Tapir inception based model AUC: 0.998889\n",
    "\n",
    "The Tapir results came down, indicating that the header and footer were in fact contributing to the classification.  The Elephant and Rhino came down or were stable.\n",
    "\n",
    "Tapirs are nocturnal, and the images I have of them are predominantly taken at night.  I think this is contributing to the strong classifier performance, given that all of the negative images I have do not have this bias.\n",
    "\n",
    "I wonder what would happen if I trained a classifier without the Tapirs for the Elephant and the Rhino.\n",
    "\n",
    "# TODO \n",
    "- Training without Tapirs.\n",
    "- Increase training set sizes\n",
    "- Experiment with deforming images\n",
    "- Training Tapirs with only evening images"
   ]
  },
  {
   "cell_type": "markdown",
   "metadata": {},
   "source": [
    "# Training without Tapirs\n",
    "\n",
    "Final test accuracy = 90.0% (N=20)\n",
    "Converted 2 variables to const ops."
   ]
  },
  {
   "cell_type": "code",
   "execution_count": 8,
   "metadata": {
    "collapsed": true
   },
   "outputs": [],
   "source": [
    "CODEBASE_DIR = '/vagrant'\n",
    "\n",
    "\n",
    "DATA_DIR = CODEBASE_DIR + '/data'\n",
    "MODELS_DIR = CODEBASE_DIR + '/models'\n",
    "MODEL_FILE = MODELS_DIR + '/inception-retrained-trimmed-no-tapir-100imgs/output_graph.pb'\n",
    "LABELS_FILE = MODELS_DIR + '/inception-retrained-trimmed-no-tapir-100imgs/output_labels.txt'\n",
    "\n",
    "# Data Constants\n",
    "ELEPHANT_DIR = DATA_DIR + '/small-testing/elephant'\n",
    "RHINO_DIR = DATA_DIR + '/small-testing/rhino'\n",
    "TAPIR_DIR = DATA_DIR + '/small-testing/tapir'\n",
    "ANY_DIR = DATA_DIR + '/small-testing/none'\n",
    "\n",
    "GRAPH_CREATED = False"
   ]
  },
  {
   "cell_type": "code",
   "execution_count": 9,
   "metadata": {},
   "outputs": [
    {
     "name": "stdout",
     "output_type": "stream",
     "text": [
      "DONE classifying images                                                                                                                         "
     ]
    }
   ],
   "source": [
    "classifications = {}\n",
    "\n",
    "for pos_dir, label, pos_sample_size in [(RHINO_DIR, 'rhino', (1.0, 0.0)),\n",
    "                                        (ANY_DIR, 'none', (1.0, 0.0)),\n",
    "                                        (ELEPHANT_DIR, 'elephant', (1.0, 0.0))]:\n",
    "    classifications[label] = stream_classify(pos_dir=pos_dir, pos_sample=pos_sample_size)"
   ]
  },
  {
   "cell_type": "code",
   "execution_count": 12,
   "metadata": {},
   "outputs": [],
   "source": [
    "def plot(classifications, labels):\n",
    "    plt.figure(1)\n",
    "    plt.figure(figsize=(18, 16), dpi= 80, facecolor='w', edgecolor='k')\n",
    "    plt.subplot(2,1,1)\n",
    "    \n",
    "    for label in labels:\n",
    "        dataset = classifications[label]\n",
    "        none_dataset = classifications['none']\n",
    "        scores = np.array(get_label_scores(dataset, label))\n",
    "        none_animal_scores = np.array(get_label_scores(none_dataset, label))\n",
    "\n",
    "        truth = np.hstack(([True] * len(scores), [False] * len(none_animal_scores)))\n",
    "        full_scores = np.hstack((scores, none_animal_scores))\n",
    "\n",
    "        precision, recall, thresholds = precision_recall_curve(truth, full_scores)\n",
    "        plt.plot(precision, recall)\n",
    "        \n",
    "\n",
    "    plt.legend(labels)\n",
    "    plt.xlabel(\"precision\")\n",
    "    plt.ylabel(\"recall\")\n",
    "    plt.title(\"PR Curve\")\n",
    "\n",
    "    # ROC curve\n",
    "    plt.subplot(2,1,2)\n",
    "    baseline = False\n",
    "    \n",
    "    for label in labels:\n",
    "        dataset = classifications[label]\n",
    "        none_dataset = classifications['none']\n",
    "        scores = np.array(get_label_scores(dataset, label))\n",
    "        none_animal_scores = np.array(get_label_scores(none_dataset, label))\n",
    "        \n",
    "        truth = np.hstack(([True] * len(scores), [False] * len(none_animal_scores)))\n",
    "        full_scores = np.hstack((scores, none_animal_scores))\n",
    "        \n",
    "        if not baseline:\n",
    "            plt.plot(thresholds, thresholds, 'k--')\n",
    "            baseline = True\n",
    "        \n",
    "        fpr, tpr, thresholds = roc_curve(truth, full_scores, pos_label=True)\n",
    "        plt.plot(fpr, tpr)\n",
    "        \n",
    "    plt.legend(['random'] + labels)\n",
    "    plt.xlabel(\"false positive rate\")\n",
    "    plt.ylabel(\"true positive rate\")\n",
    "    plt.title(\"ROC Curve\")\n",
    "\n",
    "    plt.show()\n",
    "    \n",
    "    for label in labels:\n",
    "        dataset = classifications[label]\n",
    "        none_dataset = classifications['none']\n",
    "        scores = np.array(get_label_scores(dataset, label))\n",
    "        none_animal_scores = np.array(get_label_scores(none_dataset, label))\n",
    "\n",
    "        truth = np.hstack(([True] * len(scores), [False] * len(none_animal_scores)))\n",
    "        full_scores = np.hstack((scores, none_animal_scores))\n",
    "        \n",
    "        auc = roc_auc_score(truth, full_scores)\n",
    "        print(\"%s inception based model AUC: %f\" % (label, auc))"
   ]
  },
  {
   "cell_type": "code",
   "execution_count": 13,
   "metadata": {},
   "outputs": [
    {
     "data": {
      "text/plain": [
       "<matplotlib.figure.Figure at 0x7f2bb284fdd8>"
      ]
     },
     "metadata": {},
     "output_type": "display_data"
    },
    {
     "data": {
      "image/png": "[encoded data removed]",
      "text/plain": [
       "<matplotlib.figure.Figure at 0x7f2bb286c240>"
      ]
     },
     "metadata": {},
     "output_type": "display_data"
    },
    {
     "name": "stdout",
     "output_type": "stream",
     "text": [
      "rhino inception based model AUC: 0.929231\n",
      "elephant inception based model AUC: 0.934400\n"
     ]
    }
   ],
   "source": [
    "plot(classifications, ['rhino', 'elephant'])"
   ]
  },
  {
   "cell_type": "markdown",
   "metadata": {},
   "source": [
    "# Results\n",
    "\n",
    "rhino inception based model AUC: 0.929231\n",
    "\n",
    "elephant inception based model AUC: 0.934400\n",
    "\n",
    "Removing the tapirs imporves both the elephant and the rhino classifiers.  Presumably because they are very different pictures.  It may be the case that the not only are the Tapir pictures at night, but they are infared (TBD).  Either way, this is a promising result.  Especially considering the Rhino classifier performs as well as the Elephant classifier.\n",
    "\n",
    "## TODO\n",
    "- Retrain with more images\n",
    "- Share results with Meredith\n",
    "- Begin building real tool\n"
   ]
  },
  {
   "cell_type": "code",
   "execution_count": null,
   "metadata": {
    "collapsed": true
   },
   "outputs": [],
   "source": []
  }
 ],
 "metadata": {
  "kernelspec": {
   "display_name": "Python 3",
   "language": "python",
   "name": "python3"
  },
  "language_info": {
   "codemirror_mode": {
    "name": "ipython",
    "version": 3
   },
   "file_extension": ".py",
   "mimetype": "text/x-python",
   "name": "python",
   "nbconvert_exporter": "python",
   "pygments_lexer": "ipython3",
   "version": "3.5.2"
  }
 },
 "nbformat": 4,
 "nbformat_minor": 2
}
